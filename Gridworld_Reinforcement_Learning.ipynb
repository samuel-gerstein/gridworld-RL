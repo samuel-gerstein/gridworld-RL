{
  "nbformat": 4,
  "nbformat_minor": 0,
  "metadata": {
    "colab": {
      "name": "Gridworld Reinforcement Learning.ipynb",
      "provenance": [],
      "collapsed_sections": [],
      "authorship_tag": "ABX9TyO1r7FptYii823Q1c7g4aXd",
      "include_colab_link": true
    },
    "kernelspec": {
      "name": "python3",
      "display_name": "Python 3"
    },
    "language_info": {
      "name": "python"
    }
  },
  "cells": [
    {
      "cell_type": "markdown",
      "metadata": {
        "id": "view-in-github",
        "colab_type": "text"
      },
      "source": [
        "<a href=\"https://colab.research.google.com/github/samuel-gerstein/gridworld-RL/blob/main/Gridworld_Reinforcement_Learning.ipynb\" target=\"_parent\"><img src=\"https://colab.research.google.com/assets/colab-badge.svg\" alt=\"Open In Colab\"/></a>"
      ]
    },
    {
      "cell_type": "markdown",
      "source": [
        "Three Algorithms:\n",
        "\n",
        "\n",
        "*   Q-Learning\n",
        "*   Double Q-Learning\n",
        "*   SARSA(λ)\n",
        "\n",
        "\n",
        "\n",
        "\n",
        "\n"
      ],
      "metadata": {
        "id": "2W_WnGIvosfC"
      }
    },
    {
      "cell_type": "markdown",
      "source": [
        "# Creating Gridworld using OpenAI Gym"
      ],
      "metadata": {
        "id": "OQVAbdg2JvM1"
      }
    },
    {
      "cell_type": "code",
      "source": [
        "import gym\n",
        "import random\n",
        "import numpy as np\n",
        "import statistics"
      ],
      "metadata": {
        "id": "E6UcHwzOKShN"
      },
      "execution_count": null,
      "outputs": []
    },
    {
      "cell_type": "code",
      "source": [
        "custom_map = [\n",
        "    'SFF', #S is initial point of agent\n",
        "    'FFF', #F is safe frozen ice\n",
        "    'FFG'  #G is goal (reward = 1)\n",
        "]"
      ],
      "metadata": {
        "id": "eXOwimfJUGpU"
      },
      "execution_count": null,
      "outputs": []
    },
    {
      "cell_type": "code",
      "source": [
        "env = gym.make(\"FrozenLake-v0\", is_slippery = False, desc = custom_map).env\n",
        "env.reset()\n",
        "env.render()"
      ],
      "metadata": {
        "colab": {
          "base_uri": "https://localhost:8080/"
        },
        "id": "O9ZxFIApJ8km",
        "outputId": "5d874663-db66-44c4-8a92-fdacb3744637"
      },
      "execution_count": null,
      "outputs": [
        {
          "output_type": "stream",
          "name": "stdout",
          "text": [
            "\n",
            "\u001b[41mS\u001b[0mFF\n",
            "FFF\n",
            "FFG\n"
          ]
        }
      ]
    },
    {
      "cell_type": "markdown",
      "source": [
        "Action Mapping:\n",
        "*   0 - Left\n",
        "*   1 - Down\n",
        "*   2 - Right\n",
        "*   3 - Up"
      ],
      "metadata": {
        "id": "ARASeEWQSDiP"
      }
    },
    {
      "cell_type": "code",
      "source": [
        "#Ground Truth V-Table for gamma = 0.8\n",
        "true_v = np.array([0.512, 0.64   , 0.512   , 0.64 , 0.8   , 0.64   , 0.8  , 1.   , 0.   ])\n",
        "true_v.reshape((3,3))\n",
        "\n",
        "#Need to calculate q table by hand because some states go unexplored"
      ],
      "metadata": {
        "colab": {
          "base_uri": "https://localhost:8080/"
        },
        "id": "MNjI8w4r3koV",
        "outputId": "9e01a6d0-7d03-4582-ff3c-7e7aeef055b7"
      },
      "execution_count": null,
      "outputs": [
        {
          "output_type": "execute_result",
          "data": {
            "text/plain": [
              "array([[0.512, 0.64 , 0.512],\n",
              "       [0.64 , 0.8  , 0.64 ],\n",
              "       [0.8  , 1.   , 0.   ]])"
            ]
          },
          "metadata": {},
          "execution_count": 4
        }
      ]
    },
    {
      "cell_type": "markdown",
      "source": [
        "# Q-Learning"
      ],
      "metadata": {
        "id": "S3tx5UPYNeYB"
      }
    },
    {
      "cell_type": "code",
      "source": [
        "def q_learning(env, epochs, alpha, epsilon, gamma):\n",
        "  q_table = np.zeros([env.observation_space.n, env.action_space.n])\n",
        "  v_table = np.zeros(env.observation_space.n)\n",
        "  steps_to_goal = []\n",
        "  sum_squared_error = []\n",
        "  for i in range (0,epochs):\n",
        "    v_error = []\n",
        "    state = env.reset()\n",
        "    done = False\n",
        "    steps = 0 \n",
        "    while not done:\n",
        "      if np.random.random() < epsilon:  #Epsilon Greedy Action\n",
        "        action = env.action_space.sample()\n",
        "      else:\n",
        "        action = np.argmax(q_table[state])\n",
        "      \n",
        "      next_state, reward, done, info = env.step(action)\n",
        "      \n",
        "      old_q = q_table[state, action]\n",
        "      next_q = np.max(q_table[next_state])\n",
        "\n",
        "      updated_q = (1 - alpha) * old_q + alpha * (reward + gamma * next_q) #TD Step\n",
        "      q_table[state, action] = updated_q\n",
        "\n",
        "      v_table[state] = reward + gamma * v_table[next_state] #Bellman Equation for V\n",
        "\n",
        "      state = next_state\n",
        "      steps += 1\n",
        "    steps_to_goal.append(steps)\n",
        "    \n",
        "    zip_object = zip(true_v, v_table)\n",
        "    for v_true, v_current in zip_object:\n",
        "      v_error.append(v_current - v_true)  #Change in V\n",
        "    v_error = np.square(v_error)\n",
        "    v_error = np.sum(v_error)\n",
        "    sum_squared_error.append(v_error)\n",
        "  return(sum_squared_error, steps_to_goal, v_table)"
      ],
      "metadata": {
        "id": "fWyvaY26NhmH"
      },
      "execution_count": null,
      "outputs": []
    },
    {
      "cell_type": "code",
      "source": [
        "alpha = 1\n",
        "gamma = 0.8\n",
        "epsilon = 0.01"
      ],
      "metadata": {
        "id": "sqBHMxq5Ng5x"
      },
      "execution_count": null,
      "outputs": []
    },
    {
      "cell_type": "code",
      "source": [
        "q_mse = []\n",
        "q_avg_steps = []\n",
        "q_v_table = []"
      ],
      "metadata": {
        "id": "dZe4qk2Q8G9H"
      },
      "execution_count": null,
      "outputs": []
    },
    {
      "cell_type": "code",
      "source": [
        "for i in range(0,100):\n",
        "  print(\"-------- Starting Round: \", (i+1))\n",
        "  sum_squared_error, steps_to_goal, v_table = q_learning(env, 100, alpha, epsilon, gamma)\n",
        "  q_mse.append(sum_squared_error)\n",
        "  q_avg_steps.append(steps_to_goal)\n",
        "  q_v_table.append(v_table)"
      ],
      "metadata": {
        "colab": {
          "base_uri": "https://localhost:8080/"
        },
        "id": "NS8XjAfK4act",
        "outputId": "53988d11-e8a6-44cb-adf3-064ec63a2607"
      },
      "execution_count": null,
      "outputs": [
        {
          "output_type": "stream",
          "name": "stdout",
          "text": [
            "-------- Starting Round:  1\n",
            "-------- Starting Round:  2\n",
            "-------- Starting Round:  3\n",
            "-------- Starting Round:  4\n",
            "-------- Starting Round:  5\n",
            "-------- Starting Round:  6\n",
            "-------- Starting Round:  7\n",
            "-------- Starting Round:  8\n",
            "-------- Starting Round:  9\n",
            "-------- Starting Round:  10\n",
            "-------- Starting Round:  11\n",
            "-------- Starting Round:  12\n",
            "-------- Starting Round:  13\n",
            "-------- Starting Round:  14\n",
            "-------- Starting Round:  15\n",
            "-------- Starting Round:  16\n",
            "-------- Starting Round:  17\n",
            "-------- Starting Round:  18\n",
            "-------- Starting Round:  19\n",
            "-------- Starting Round:  20\n",
            "-------- Starting Round:  21\n",
            "-------- Starting Round:  22\n",
            "-------- Starting Round:  23\n",
            "-------- Starting Round:  24\n",
            "-------- Starting Round:  25\n",
            "-------- Starting Round:  26\n",
            "-------- Starting Round:  27\n",
            "-------- Starting Round:  28\n",
            "-------- Starting Round:  29\n",
            "-------- Starting Round:  30\n",
            "-------- Starting Round:  31\n",
            "-------- Starting Round:  32\n",
            "-------- Starting Round:  33\n",
            "-------- Starting Round:  34\n",
            "-------- Starting Round:  35\n",
            "-------- Starting Round:  36\n",
            "-------- Starting Round:  37\n",
            "-------- Starting Round:  38\n",
            "-------- Starting Round:  39\n",
            "-------- Starting Round:  40\n",
            "-------- Starting Round:  41\n",
            "-------- Starting Round:  42\n",
            "-------- Starting Round:  43\n",
            "-------- Starting Round:  44\n",
            "-------- Starting Round:  45\n",
            "-------- Starting Round:  46\n",
            "-------- Starting Round:  47\n",
            "-------- Starting Round:  48\n",
            "-------- Starting Round:  49\n",
            "-------- Starting Round:  50\n",
            "-------- Starting Round:  51\n",
            "-------- Starting Round:  52\n",
            "-------- Starting Round:  53\n",
            "-------- Starting Round:  54\n",
            "-------- Starting Round:  55\n",
            "-------- Starting Round:  56\n",
            "-------- Starting Round:  57\n",
            "-------- Starting Round:  58\n",
            "-------- Starting Round:  59\n",
            "-------- Starting Round:  60\n",
            "-------- Starting Round:  61\n",
            "-------- Starting Round:  62\n",
            "-------- Starting Round:  63\n",
            "-------- Starting Round:  64\n",
            "-------- Starting Round:  65\n",
            "-------- Starting Round:  66\n",
            "-------- Starting Round:  67\n",
            "-------- Starting Round:  68\n",
            "-------- Starting Round:  69\n",
            "-------- Starting Round:  70\n",
            "-------- Starting Round:  71\n",
            "-------- Starting Round:  72\n",
            "-------- Starting Round:  73\n",
            "-------- Starting Round:  74\n",
            "-------- Starting Round:  75\n",
            "-------- Starting Round:  76\n",
            "-------- Starting Round:  77\n",
            "-------- Starting Round:  78\n",
            "-------- Starting Round:  79\n",
            "-------- Starting Round:  80\n",
            "-------- Starting Round:  81\n",
            "-------- Starting Round:  82\n",
            "-------- Starting Round:  83\n",
            "-------- Starting Round:  84\n",
            "-------- Starting Round:  85\n",
            "-------- Starting Round:  86\n",
            "-------- Starting Round:  87\n",
            "-------- Starting Round:  88\n",
            "-------- Starting Round:  89\n",
            "-------- Starting Round:  90\n",
            "-------- Starting Round:  91\n",
            "-------- Starting Round:  92\n",
            "-------- Starting Round:  93\n",
            "-------- Starting Round:  94\n",
            "-------- Starting Round:  95\n",
            "-------- Starting Round:  96\n",
            "-------- Starting Round:  97\n",
            "-------- Starting Round:  98\n",
            "-------- Starting Round:  99\n",
            "-------- Starting Round:  100\n"
          ]
        }
      ]
    },
    {
      "cell_type": "code",
      "source": [
        "q_mse = [statistics.mean(k) for k in zip(*q_mse)]\n",
        "q_avg_steps = [statistics.mean(k) for k in zip(*q_avg_steps)]\n",
        "q_v_table = np.mean(q_v_table, axis = 0)"
      ],
      "metadata": {
        "id": "58H_JVel8isJ"
      },
      "execution_count": null,
      "outputs": []
    },
    {
      "cell_type": "code",
      "source": [
        "import matplotlib.pyplot as plt"
      ],
      "metadata": {
        "id": "XddsMiWuxure"
      },
      "execution_count": null,
      "outputs": []
    },
    {
      "cell_type": "code",
      "source": [
        "plt.axhline(y=4, color='red')\n",
        "plt.plot(q_avg_steps)\n",
        "plt.ylim(0,30)\n",
        "plt.xlabel(\"Episode\")\n",
        "plt.ylabel(\"Steps to Goal\")\n",
        "plt.title(\"Average Steps to Goal for 100 Rounds of $\\epsilon$ Q-Learning\")"
      ],
      "metadata": {
        "colab": {
          "base_uri": "https://localhost:8080/",
          "height": 314
        },
        "id": "iM0s_u_iwrC9",
        "outputId": "39e40699-74e7-4b92-edb5-75aad8fb6a9f"
      },
      "execution_count": null,
      "outputs": [
        {
          "output_type": "execute_result",
          "data": {
            "text/plain": [
              "Text(0.5, 1.0, 'Average Steps to Goal for 100 Rounds of $\\\\epsilon$ Q-Learning')"
            ]
          },
          "metadata": {},
          "execution_count": 11
        },
        {
          "output_type": "display_data",
          "data": {
            "text/plain": [
              "<Figure size 432x288 with 1 Axes>"
            ],
            "image/png": "[encoded data removed]"
          },
          "metadata": {
            "needs_background": "light"
          }
        }
      ]
    },
    {
      "cell_type": "code",
      "source": [
        "plt.plot(q_mse)\n",
        "plt.xlabel(\"Episode\")\n",
        "plt.ylabel(\"Mean Squared Error\")\n",
        "plt.title(\"MSE for 100 Rounds of $\\epsilon$ Q-Learning\")"
      ],
      "metadata": {
        "colab": {
          "base_uri": "https://localhost:8080/",
          "height": 314
        },
        "id": "kAmveWqu7seV",
        "outputId": "d87a2565-ca9d-4b59-8493-4db2cf42a505"
      },
      "execution_count": null,
      "outputs": [
        {
          "output_type": "execute_result",
          "data": {
            "text/plain": [
              "Text(0.5, 1.0, 'MSE for 100 Rounds of $\\\\epsilon$ Q-Learning')"
            ]
          },
          "metadata": {},
          "execution_count": 12
        },
        {
          "output_type": "display_data",
          "data": {
            "text/plain": [
              "<Figure size 432x288 with 1 Axes>"
            ],
            "image/png": "[encoded data removed]"
          },
          "metadata": {
            "needs_background": "light"
          }
        }
      ]
    },
    {
      "cell_type": "markdown",
      "source": [
        "# Double Q-Learning"
      ],
      "metadata": {
        "id": "KQ0aKJ1ah2Eo"
      }
    },
    {
      "cell_type": "code",
      "source": [
        "def double_q_learning(env, epochs, alpha, epsilon, gamma):\n",
        "  qa_table = np.zeros([env.observation_space.n, env.action_space.n])\n",
        "  qb_table = np.zeros([env.observation_space.n, env.action_space.n])\n",
        "  va_table = np.zeros(env.observation_space.n)\n",
        "  vb_table = np.zeros(env.observation_space.n)\n",
        "  steps_to_goal = []\n",
        "  sum_squared_error = []\n",
        "  for i in range (0,epochs):\n",
        "    v_error = []\n",
        "    state = env.reset()\n",
        "    done = False\n",
        "    steps = 0 \n",
        "    while not done:\n",
        "      q_sum_table = qa_table + qb_table\n",
        "      if np.random.random() < epsilon:  #Epsilon Greedy Action\n",
        "        action = env.action_space.sample()\n",
        "      else:\n",
        "        action = np.argmax(q_sum_table[state])\n",
        "      \n",
        "      next_state, reward, done, info = env.step(action)\n",
        "      \n",
        "      if np.random.random() < 0.5:  #Q_A Table Case\n",
        "        old_q = qa_table[state,action]\n",
        "        next_action = np.argmax(qa_table[next_state])\n",
        "        updated_q = (1 - alpha) * old_q + alpha * (reward + gamma * qb_table[next_state,next_action]) #TD Step\n",
        "        qa_table[state, action] = updated_q\n",
        "        zip_object = zip(true_v, va_table)\n",
        "        va_table[state] = reward + gamma * va_table[next_state] #Bellman Equation for V\n",
        "      else:                          #Q_B Table Case\n",
        "        old_q = qb_table[state,action]\n",
        "        next_action = np.argmax(qb_table[next_state])\n",
        "        updated_q = (1 - alpha) * old_q + alpha * (reward + gamma * qa_table[next_state,next_action]) #TD Step\n",
        "        qb_table[state, action] = updated_q\n",
        "        zip_object = zip(true_v, vb_table) \n",
        "        vb_table[state] = reward + gamma * vb_table[next_state] #Bellman Equation for V\n",
        "\n",
        "\n",
        "      state = next_state\n",
        "      steps += 1\n",
        "    steps_to_goal.append(steps)\n",
        "    for v_true, v_current in zip_object:\n",
        "      v_error.append(v_current - v_true)  #Change in V\n",
        "    v_error = np.square(v_error)\n",
        "    v_error = np.sum(v_error)\n",
        "    sum_squared_error.append(v_error)\n",
        "  return(sum_squared_error, steps_to_goal, v_table)"
      ],
      "metadata": {
        "id": "cWBYf1JGh4Mg"
      },
      "execution_count": null,
      "outputs": []
    },
    {
      "cell_type": "code",
      "source": [
        "dq_mse = []\n",
        "dq_avg_steps = []\n",
        "dq_v_table = []"
      ],
      "metadata": {
        "id": "mrb9P1d2f4oo"
      },
      "execution_count": null,
      "outputs": []
    },
    {
      "cell_type": "code",
      "source": [
        "for i in range(0,100):\n",
        "  print(\"-------- Starting Round: \", (i+1))\n",
        "  sum_squared_error, steps_to_goal, v_table = double_q_learning(env, 100, alpha, epsilon, gamma)\n",
        "  dq_mse.append(sum_squared_error)\n",
        "  dq_avg_steps.append(steps_to_goal)\n",
        "  dq_v_table.append(v_table)"
      ],
      "metadata": {
        "colab": {
          "base_uri": "https://localhost:8080/"
        },
        "id": "m4c9i6LefUt2",
        "outputId": "1a38dd2b-6b82-44a8-8dd2-b9f516ae8ca6"
      },
      "execution_count": null,
      "outputs": [
        {
          "output_type": "stream",
          "name": "stdout",
          "text": [
            "-------- Starting Round:  1\n",
            "-------- Starting Round:  2\n",
            "-------- Starting Round:  3\n",
            "-------- Starting Round:  4\n",
            "-------- Starting Round:  5\n",
            "-------- Starting Round:  6\n",
            "-------- Starting Round:  7\n",
            "-------- Starting Round:  8\n",
            "-------- Starting Round:  9\n",
            "-------- Starting Round:  10\n",
            "-------- Starting Round:  11\n",
            "-------- Starting Round:  12\n",
            "-------- Starting Round:  13\n",
            "-------- Starting Round:  14\n",
            "-------- Starting Round:  15\n",
            "-------- Starting Round:  16\n",
            "-------- Starting Round:  17\n",
            "-------- Starting Round:  18\n",
            "-------- Starting Round:  19\n",
            "-------- Starting Round:  20\n",
            "-------- Starting Round:  21\n",
            "-------- Starting Round:  22\n",
            "-------- Starting Round:  23\n",
            "-------- Starting Round:  24\n",
            "-------- Starting Round:  25\n",
            "-------- Starting Round:  26\n",
            "-------- Starting Round:  27\n",
            "-------- Starting Round:  28\n",
            "-------- Starting Round:  29\n",
            "-------- Starting Round:  30\n",
            "-------- Starting Round:  31\n",
            "-------- Starting Round:  32\n",
            "-------- Starting Round:  33\n",
            "-------- Starting Round:  34\n",
            "-------- Starting Round:  35\n",
            "-------- Starting Round:  36\n",
            "-------- Starting Round:  37\n",
            "-------- Starting Round:  38\n",
            "-------- Starting Round:  39\n",
            "-------- Starting Round:  40\n",
            "-------- Starting Round:  41\n",
            "-------- Starting Round:  42\n",
            "-------- Starting Round:  43\n",
            "-------- Starting Round:  44\n",
            "-------- Starting Round:  45\n",
            "-------- Starting Round:  46\n",
            "-------- Starting Round:  47\n",
            "-------- Starting Round:  48\n",
            "-------- Starting Round:  49\n",
            "-------- Starting Round:  50\n",
            "-------- Starting Round:  51\n",
            "-------- Starting Round:  52\n",
            "-------- Starting Round:  53\n",
            "-------- Starting Round:  54\n",
            "-------- Starting Round:  55\n",
            "-------- Starting Round:  56\n",
            "-------- Starting Round:  57\n",
            "-------- Starting Round:  58\n",
            "-------- Starting Round:  59\n",
            "-------- Starting Round:  60\n",
            "-------- Starting Round:  61\n",
            "-------- Starting Round:  62\n",
            "-------- Starting Round:  63\n",
            "-------- Starting Round:  64\n",
            "-------- Starting Round:  65\n",
            "-------- Starting Round:  66\n",
            "-------- Starting Round:  67\n",
            "-------- Starting Round:  68\n",
            "-------- Starting Round:  69\n",
            "-------- Starting Round:  70\n",
            "-------- Starting Round:  71\n",
            "-------- Starting Round:  72\n",
            "-------- Starting Round:  73\n",
            "-------- Starting Round:  74\n",
            "-------- Starting Round:  75\n",
            "-------- Starting Round:  76\n",
            "-------- Starting Round:  77\n",
            "-------- Starting Round:  78\n",
            "-------- Starting Round:  79\n",
            "-------- Starting Round:  80\n",
            "-------- Starting Round:  81\n",
            "-------- Starting Round:  82\n",
            "-------- Starting Round:  83\n",
            "-------- Starting Round:  84\n",
            "-------- Starting Round:  85\n",
            "-------- Starting Round:  86\n",
            "-------- Starting Round:  87\n",
            "-------- Starting Round:  88\n",
            "-------- Starting Round:  89\n",
            "-------- Starting Round:  90\n",
            "-------- Starting Round:  91\n",
            "-------- Starting Round:  92\n",
            "-------- Starting Round:  93\n",
            "-------- Starting Round:  94\n",
            "-------- Starting Round:  95\n",
            "-------- Starting Round:  96\n",
            "-------- Starting Round:  97\n",
            "-------- Starting Round:  98\n",
            "-------- Starting Round:  99\n",
            "-------- Starting Round:  100\n"
          ]
        }
      ]
    },
    {
      "cell_type": "code",
      "source": [
        "dq_mse = [statistics.mean(k) for k in zip(*dq_mse)]\n",
        "dq_avg_steps = [statistics.mean(k) for k in zip(*dq_avg_steps)]\n",
        "dq_v_table = np.mean(dq_v_table, axis = 0)"
      ],
      "metadata": {
        "id": "ghuoR0Wfgg4X"
      },
      "execution_count": null,
      "outputs": []
    },
    {
      "cell_type": "code",
      "source": [
        "plt.axhline(y=4, color='red')\n",
        "plt.plot(dq_avg_steps)\n",
        "plt.ylim(0,30)\n",
        "plt.xlabel(\"Episode\")\n",
        "plt.ylabel(\"Steps to Goal\")\n",
        "plt.title(\"Average Steps to Goal for 100 Rounds of Double Q-Learning\")"
      ],
      "metadata": {
        "colab": {
          "base_uri": "https://localhost:8080/",
          "height": 312
        },
        "id": "6pIUDRN-ffsc",
        "outputId": "6518a479-4610-4963-eab4-410daf39efd8"
      },
      "execution_count": null,
      "outputs": [
        {
          "output_type": "execute_result",
          "data": {
            "text/plain": [
              "Text(0.5, 1.0, 'Average Steps to Goal for 100 Rounds of Double Q-Learning')"
            ]
          },
          "metadata": {},
          "execution_count": 17
        },
        {
          "output_type": "display_data",
          "data": {
            "text/plain": [
              "<Figure size 432x288 with 1 Axes>"
            ],
            "image/png": "[encoded data removed]"
          },
          "metadata": {
            "needs_background": "light"
          }
        }
      ]
    },
    {
      "cell_type": "code",
      "source": [
        "plt.plot(dq_mse)\n",
        "plt.xlabel(\"Episode\")\n",
        "plt.ylabel(\"Mean Squared Error\")\n",
        "plt.title(\"MSE for 100 Rounds of Double Q-Learning\")"
      ],
      "metadata": {
        "colab": {
          "base_uri": "https://localhost:8080/",
          "height": 312
        },
        "id": "zI1ez-K4fiol",
        "outputId": "e5bbdf47-61a3-4ef5-86fe-5fadfc8c2b08"
      },
      "execution_count": null,
      "outputs": [
        {
          "output_type": "execute_result",
          "data": {
            "text/plain": [
              "Text(0.5, 1.0, 'MSE for 100 Rounds of Double Q-Learning')"
            ]
          },
          "metadata": {},
          "execution_count": 18
        },
        {
          "output_type": "display_data",
          "data": {
            "text/plain": [
              "<Figure size 432x288 with 1 Axes>"
            ],
            "image/png": "[encoded data removed]"
          },
          "metadata": {
            "needs_background": "light"
          }
        }
      ]
    },
    {
      "cell_type": "markdown",
      "source": [
        "# SARSA(λ)"
      ],
      "metadata": {
        "id": "eOvBdHHN_vLZ"
      }
    },
    {
      "cell_type": "code",
      "source": [
        "def SARSA(env, epochs, alpha, epsilon, gamma, lmbda):\n",
        "  q_table = np.zeros([env.observation_space.n, env.action_space.n])\n",
        "  v_table = np.zeros(env.observation_space.n)\n",
        "  e_table = np.zeros([env.observation_space.n, env.action_space.n]) #Eligibility Trace Table\n",
        "  steps_to_goal = []\n",
        "  sum_squared_error = []\n",
        "  for i in range (0,epochs):\n",
        "    v_error = []\n",
        "    state = env.reset()\n",
        "    done = False\n",
        "    steps = 0 \n",
        "    if np.random.random() < epsilon:  #Epsilon Greedy Initial Action\n",
        "      action = env.action_space.sample()\n",
        "    else:\n",
        "      action = np.argmax(q_table[state])\n",
        "\n",
        "    while not done:\n",
        "      next_state, reward, done, info = env.step(action)\n",
        "      if np.random.random() < epsilon:  #Epsilon Greedy (s', a')\n",
        "        next_action = env.action_space.sample()\n",
        "      else:\n",
        "        next_action = np.argmax(q_table[next_state])\n",
        "\n",
        "      delta = reward + gamma * q_table[next_state, next_action] - q_table[state, action]\n",
        "      e_table[state,action] = e_table[state,action] + 1 #Accumulating Eligibility Traces\n",
        "\n",
        "      q_table = q_table + (alpha * delta) * e_table\n",
        "      e_table = (gamma * lmbda) * e_table\n",
        "      v_table[state] = reward + gamma * v_table[next_state] #Bellman Equation for V\n",
        "\n",
        "      state = next_state\n",
        "      action = next_action\n",
        "      steps += 1\n",
        "  \n",
        "    steps_to_goal.append(steps)\n",
        "    zip_object = zip(true_v, v_table)\n",
        "    for v_true, v_current in zip_object:\n",
        "      v_error.append(v_current - v_true)  #Change in V\n",
        "    v_error = np.square(v_error)\n",
        "    v_error = np.sum(v_error)\n",
        "    sum_squared_error.append(v_error)\n",
        "  return(sum_squared_error, steps_to_goal, v_table)"
      ],
      "metadata": {
        "id": "Lpwt8VpPA2Ib"
      },
      "execution_count": null,
      "outputs": []
    },
    {
      "cell_type": "code",
      "source": [
        "sarsa_mse = []\n",
        "sarsa_avg_steps = []\n",
        "sarsa_v_table = []"
      ],
      "metadata": {
        "id": "-oTgQA1aIZCe"
      },
      "execution_count": null,
      "outputs": []
    },
    {
      "cell_type": "code",
      "source": [
        "for i in range(0,100):\n",
        "  print(\"-------- Starting Round: \", (i+1))\n",
        "  sum_squared_error, steps_to_goal, v_table = SARSA(env, 100, alpha, epsilon, gamma, 0.9) #lambda = 0.9\n",
        "  sarsa_mse.append(sum_squared_error)\n",
        "  sarsa_avg_steps.append(steps_to_goal)\n",
        "  sarsa_v_table.append(v_table)"
      ],
      "metadata": {
        "colab": {
          "base_uri": "https://localhost:8080/"
        },
        "id": "6BfKeZcsIdbR",
        "outputId": "dba13e6c-2165-4de8-ac3d-21324f13414c"
      },
      "execution_count": null,
      "outputs": [
        {
          "output_type": "stream",
          "name": "stdout",
          "text": [
            "-------- Starting Round:  1\n",
            "-------- Starting Round:  2\n",
            "-------- Starting Round:  3\n",
            "-------- Starting Round:  4\n",
            "-------- Starting Round:  5\n",
            "-------- Starting Round:  6\n",
            "-------- Starting Round:  7\n",
            "-------- Starting Round:  8\n",
            "-------- Starting Round:  9\n",
            "-------- Starting Round:  10\n",
            "-------- Starting Round:  11\n",
            "-------- Starting Round:  12\n",
            "-------- Starting Round:  13\n",
            "-------- Starting Round:  14\n",
            "-------- Starting Round:  15\n",
            "-------- Starting Round:  16\n",
            "-------- Starting Round:  17\n",
            "-------- Starting Round:  18\n",
            "-------- Starting Round:  19\n",
            "-------- Starting Round:  20\n",
            "-------- Starting Round:  21\n",
            "-------- Starting Round:  22\n",
            "-------- Starting Round:  23\n",
            "-------- Starting Round:  24\n",
            "-------- Starting Round:  25\n",
            "-------- Starting Round:  26\n",
            "-------- Starting Round:  27\n",
            "-------- Starting Round:  28\n",
            "-------- Starting Round:  29\n",
            "-------- Starting Round:  30\n",
            "-------- Starting Round:  31\n",
            "-------- Starting Round:  32\n",
            "-------- Starting Round:  33\n",
            "-------- Starting Round:  34\n",
            "-------- Starting Round:  35\n",
            "-------- Starting Round:  36\n",
            "-------- Starting Round:  37\n",
            "-------- Starting Round:  38\n",
            "-------- Starting Round:  39\n",
            "-------- Starting Round:  40\n",
            "-------- Starting Round:  41\n",
            "-------- Starting Round:  42\n",
            "-------- Starting Round:  43\n",
            "-------- Starting Round:  44\n",
            "-------- Starting Round:  45\n",
            "-------- Starting Round:  46\n",
            "-------- Starting Round:  47\n",
            "-------- Starting Round:  48\n",
            "-------- Starting Round:  49\n",
            "-------- Starting Round:  50\n",
            "-------- Starting Round:  51\n",
            "-------- Starting Round:  52\n",
            "-------- Starting Round:  53\n",
            "-------- Starting Round:  54\n",
            "-------- Starting Round:  55\n",
            "-------- Starting Round:  56\n",
            "-------- Starting Round:  57\n",
            "-------- Starting Round:  58\n",
            "-------- Starting Round:  59\n",
            "-------- Starting Round:  60\n",
            "-------- Starting Round:  61\n",
            "-------- Starting Round:  62\n",
            "-------- Starting Round:  63\n",
            "-------- Starting Round:  64\n",
            "-------- Starting Round:  65\n",
            "-------- Starting Round:  66\n",
            "-------- Starting Round:  67\n",
            "-------- Starting Round:  68\n",
            "-------- Starting Round:  69\n",
            "-------- Starting Round:  70\n",
            "-------- Starting Round:  71\n",
            "-------- Starting Round:  72\n",
            "-------- Starting Round:  73\n",
            "-------- Starting Round:  74\n",
            "-------- Starting Round:  75\n",
            "-------- Starting Round:  76\n",
            "-------- Starting Round:  77\n",
            "-------- Starting Round:  78\n",
            "-------- Starting Round:  79\n",
            "-------- Starting Round:  80\n",
            "-------- Starting Round:  81\n",
            "-------- Starting Round:  82\n",
            "-------- Starting Round:  83\n",
            "-------- Starting Round:  84\n",
            "-------- Starting Round:  85\n",
            "-------- Starting Round:  86\n",
            "-------- Starting Round:  87\n",
            "-------- Starting Round:  88\n",
            "-------- Starting Round:  89\n",
            "-------- Starting Round:  90\n",
            "-------- Starting Round:  91\n",
            "-------- Starting Round:  92\n",
            "-------- Starting Round:  93\n",
            "-------- Starting Round:  94\n",
            "-------- Starting Round:  95\n",
            "-------- Starting Round:  96\n",
            "-------- Starting Round:  97\n",
            "-------- Starting Round:  98\n",
            "-------- Starting Round:  99\n",
            "-------- Starting Round:  100\n"
          ]
        }
      ]
    },
    {
      "cell_type": "code",
      "source": [
        "sarsa_mse = [statistics.mean(k) for k in zip(*sarsa_mse)]\n",
        "sarsa_avg_steps = [statistics.mean(k) for k in zip(*sarsa_avg_steps)]\n",
        "sarsa_v_table = np.mean(sarsa_v_table, axis = 0)"
      ],
      "metadata": {
        "id": "zVPa2k8ZIgvq"
      },
      "execution_count": null,
      "outputs": []
    },
    {
      "cell_type": "code",
      "source": [
        "plt.axhline(y=4, color='red')\n",
        "plt.plot(sarsa_avg_steps)\n",
        "plt.ylim(0,100)\n",
        "plt.xlabel(\"Episode\")\n",
        "plt.ylabel(\"Steps to Goal\")\n",
        "plt.title(\"Average Steps to Goal for 100 Rounds of SARSA($\\lambda$)\")"
      ],
      "metadata": {
        "colab": {
          "base_uri": "https://localhost:8080/",
          "height": 314
        },
        "id": "Hdonpfm0IjZo",
        "outputId": "8a6fdce3-022c-4e38-a031-5a71c7b437cf"
      },
      "execution_count": null,
      "outputs": [
        {
          "output_type": "execute_result",
          "data": {
            "text/plain": [
              "Text(0.5, 1.0, 'Average Steps to Goal for 100 Rounds of SARSA($\\\\lambda$)')"
            ]
          },
          "metadata": {},
          "execution_count": 23
        },
        {
          "output_type": "display_data",
          "data": {
            "text/plain": [
              "<Figure size 432x288 with 1 Axes>"
            ],
            "image/png": "[encoded data removed]"
          },
          "metadata": {
            "needs_background": "light"
          }
        }
      ]
    },
    {
      "cell_type": "code",
      "source": [
        "plt.plot(sarsa_mse)\n",
        "plt.xlabel(\"Episode\")\n",
        "plt.ylabel(\"Mean Squared Error\")\n",
        "plt.title(\"MSE for 100 Rounds of SARSA($\\lambda$)\")"
      ],
      "metadata": {
        "colab": {
          "base_uri": "https://localhost:8080/",
          "height": 314
        },
        "id": "c_pIc2MjImvk",
        "outputId": "359da9a7-b1db-4d20-ca52-9e4e72ac08f8"
      },
      "execution_count": null,
      "outputs": [
        {
          "output_type": "execute_result",
          "data": {
            "text/plain": [
              "Text(0.5, 1.0, 'MSE for 100 Rounds of SARSA($\\\\lambda$)')"
            ]
          },
          "metadata": {},
          "execution_count": 24
        },
        {
          "output_type": "display_data",
          "data": {
            "text/plain": [
              "<Figure size 432x288 with 1 Axes>"
            ],
            "image/png": "[encoded data removed]"
          },
          "metadata": {
            "needs_background": "light"
          }
        }
      ]
    },
    {
      "cell_type": "markdown",
      "source": [
        "# Comparison\n"
      ],
      "metadata": {
        "id": "KIuT0xm9J6n1"
      }
    },
    {
      "cell_type": "code",
      "source": [
        "fig, ax = plt.subplots()\n",
        "opt = ax.hlines(4, xmin=0, xmax=50, color='red', label='Optimal')\n",
        "exp1, = ax.plot(q_avg_steps, label='Q-Learning')\n",
        "exp2, = ax.plot(dq_avg_steps, label='Double Q-Learning')\n",
        "exp3, = ax.plot(sarsa_avg_steps, label='SARSA($\\lambda$)')\n",
        "ax.legend(handles=[exp1,exp2,exp3, opt])\n",
        "ax.set_ylabel(\"Steps to Goal\")\n",
        "ax.set_xlabel(\"Episode\")\n",
        "plt.ylim(0,500)\n",
        "ax.set_title(\"Average Steps to Goal for 100 Trials of TD Learning\")"
      ],
      "metadata": {
        "colab": {
          "base_uri": "https://localhost:8080/",
          "height": 312
        },
        "id": "TYxNNyFYlzEb",
        "outputId": "35146587-e3b9-4354-ee16-6286a0a25fd6"
      },
      "execution_count": null,
      "outputs": [
        {
          "output_type": "execute_result",
          "data": {
            "text/plain": [
              "Text(0.5, 1.0, 'Average Steps to Goal for 100 Trials of TD Learning')"
            ]
          },
          "metadata": {},
          "execution_count": 25
        },
        {
          "output_type": "display_data",
          "data": {
            "text/plain": [
              "<Figure size 432x288 with 1 Axes>"
            ],
            "image/png": "[encoded data removed]"
          },
          "metadata": {
            "needs_background": "light"
          }
        }
      ]
    },
    {
      "cell_type": "code",
      "source": [
        "fig, ax = plt.subplots()\n",
        "exp1, = ax.plot(q_mse, label='Q-Learning')\n",
        "exp2, = ax.plot(dq_mse, label='Double Q-Learning')\n",
        "exp3, = ax.plot(sarsa_mse, label='SARSA($\\lambda$)')\n",
        "ax.legend(handles=[exp1,exp2,exp3])\n",
        "ax.set_ylabel(\"Mean Squared Error\")\n",
        "ax.set_xlabel(\"Episode\")\n",
        "ax.set_title(\"MSE for 100 Trials of TD Learning\")"
      ],
      "metadata": {
        "colab": {
          "base_uri": "https://localhost:8080/",
          "height": 312
        },
        "id": "K1m4C9OimFQG",
        "outputId": "ed4511fd-fc52-4ac2-bc07-f91b1dc6fe30"
      },
      "execution_count": null,
      "outputs": [
        {
          "output_type": "execute_result",
          "data": {
            "text/plain": [
              "Text(0.5, 1.0, 'MSE for 100 Trials of TD Learning')"
            ]
          },
          "metadata": {},
          "execution_count": 26
        },
        {
          "output_type": "display_data",
          "data": {
            "text/plain": [
              "<Figure size 432x288 with 1 Axes>"
            ],
            "image/png": "[encoded data removed]"
          },
          "metadata": {
            "needs_background": "light"
          }
        }
      ]
    },
    {
      "cell_type": "code",
      "source": [
        "# Can be modified to find convergent v-table, but inaccurate as some states go unexplored.\n",
        "# v_tables = []\n",
        "# step_curves = []\n",
        "# avg_v = np.zeros(env.observation_space.n)\n",
        "# avg_steps = []\n",
        "# not_converged = True\n",
        "\n",
        "# while not_converged:\n",
        "#   gradient_v = []\n",
        "#   v_table, steps_to_goal = ep_q_learning(env, 50, alpha, epsilon, gamma)\n",
        "#   v_tables.append(v_table)\n",
        "#   step_curves.append(steps_to_goal)\n",
        "\n",
        "#   new_avg_v = [statistics.mean(k) for k in zip(*v_tables)]\n",
        "#   zip_object = zip(new_avg_v, avg_v)\n",
        "#   for v_new, v_old in zip_object:\n",
        "#     gradient_v.append(v_new - v_old)  #Change in V\n",
        "#   avg_v = new_avg_v\n",
        "#   max_gradient = np.max(gradient_v)\n",
        "#   print(max_gradient)\n",
        "#   if max_gradient < 0.05: #Tolerance Value for Convergence\n",
        "#     not_converged = False"
      ],
      "metadata": {
        "id": "Y2Y9b2T5ZmqE"
      },
      "execution_count": null,
      "outputs": []
    },
    {
      "cell_type": "code",
      "source": [
        "q_v_table"
      ],
      "metadata": {
        "colab": {
          "base_uri": "https://localhost:8080/"
        },
        "id": "U-wyTceDRwbt",
        "outputId": "831d92a7-bcb4-45fa-a80d-530bb63611ea"
      },
      "execution_count": null,
      "outputs": [
        {
          "output_type": "execute_result",
          "data": {
            "text/plain": [
              "array([0.4999168, 0.       , 0.       , 0.64     , 0.118784 , 0.01     ,\n",
              "       0.8      , 1.       , 0.       ])"
            ]
          },
          "metadata": {},
          "execution_count": 28
        }
      ]
    },
    {
      "cell_type": "code",
      "source": [
        "dq_v_table"
      ],
      "metadata": {
        "id": "KBbhZGoS7F_2"
      },
      "execution_count": null,
      "outputs": []
    },
    {
      "cell_type": "code",
      "source": [
        "sarsa_v_table"
      ],
      "metadata": {
        "colab": {
          "base_uri": "https://localhost:8080/"
        },
        "id": "2ihQArjZjg54",
        "outputId": "2645926e-424e-4954-dfdb-c5719d2692b7"
      },
      "execution_count": null,
      "outputs": [
        {
          "output_type": "execute_result",
          "data": {
            "text/plain": [
              "array([0.4888576 , 0.1781038 , 0.05302976, 0.50529901, 0.31623875,\n",
              "       0.1056    , 0.67987143, 0.96707614, 0.        ])"
            ]
          },
          "metadata": {},
          "execution_count": 30
        }
      ]
    }
  ]
}